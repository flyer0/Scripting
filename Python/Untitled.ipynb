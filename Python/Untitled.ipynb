{
 "cells": [
  {
   "cell_type": "code",
   "execution_count": null,
   "metadata": {},
   "outputs": [],
   "source": [
    "phonetic = dict(A = 'Alpha',\n",
    "B = 'Bravo',   \n",
    "C = 'Charlie',\n",
    "D = 'Delta',   \n",
    "E = 'Echo',    \n",
    "F = 'Foxtrot', \n",
    "G = 'Golf',\n",
    "H = 'Hotel',\n",
    "I = 'India',\n",
    "J = 'Juliet',\n",
    "K = 'Kilo',\n",
    "L = 'Lima',\n",
    "M = 'Mike',\n",
    "N = 'November', \n",
    "O = 'Oscar',\n",
    "P = 'Papa',\n",
    "Q = 'Quebec', \n",
    "R = 'Romeo',\n",
    "S = 'Sierra',\n",
    "T = 'Tango',\n",
    "U = 'Uniform', \n",
    "V = 'Victor',\n",
    "W = 'Whiskey',\n",
    "X = 'Xray',\n",
    "Y = 'Yankee',\n",
    "Z = 'Zulu')"
   ]
  },
  {
   "cell_type": "code",
   "execution_count": null,
   "metadata": {},
   "outputs": [],
   "source": [
    "phonetic[s] for s in 'HFICT'"
   ]
  },
  {
   "cell_type": "code",
   "execution_count": 1,
   "metadata": {},
   "outputs": [
    {
     "data": {
      "text/plain": [
       "['Hotel', 'Foxgtrot', 'India', 'Charlie', 'Tango']"
      ]
     },
     "execution_count": 1,
     "metadata": {},
     "output_type": "execute_result"
    }
   ],
   "source": [
    "['Hotel','Foxgtrot','India','Charlie','Tango']"
   ]
  },
  {
   "cell_type": "code",
   "execution_count": null,
   "metadata": {},
   "outputs": [],
   "source": []
  }
 ],
 "metadata": {
  "kernelspec": {
   "display_name": "Python 3",
   "language": "python",
   "name": "python3"
  },
  "language_info": {
   "codemirror_mode": {
    "name": "ipython",
    "version": 3
   },
   "file_extension": ".py",
   "mimetype": "text/x-python",
   "name": "python",
   "nbconvert_exporter": "python",
   "pygments_lexer": "ipython3",
   "version": "3.7.3"
  }
 },
 "nbformat": 4,
 "nbformat_minor": 2
}
